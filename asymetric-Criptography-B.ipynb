{
 "cells": [
  {
   "cell_type": "markdown",
   "metadata": {},
   "source": [
    "# Asymetric Criptography"
   ]
  },
  {
   "cell_type": "markdown",
   "metadata": {},
   "source": [
    "## 1. Introduction"
   ]
  },
  {
   "cell_type": "markdown",
   "metadata": {},
   "source": [
    "In this second lab of the subject of system administration and security, we will focus on how does it work asymetric criptography. As you know, cryptography is a very useful tool when computer security is desired; it can also be understood as a means to guarantee the confidentiality, integrity and availability properties of a system's resources. \n",
    "\n",
    "In the previous lab, we started to use symmetric criptography, in which you only need a key to encrypt and decrypt, basically as classical cryptography. With this type of cryptography we can guarantee confidentiality because only whoever has the secret key will be able to see the message. \n",
    "\n",
    "The problem with symmetric cryptography is that if I wanted to share secrets with m people, for each person I would have to generate a new secret key and the personal administration of all m keys would be chaotic. Another problem associated with this type of cryptography is how I share with another person in a confidential and integrated way the secret key. These problems are solved to some extent with asymmetric cryptography.\n"
   ]
  },
  {
   "cell_type": "markdown",
   "metadata": {},
   "source": [
    "In Asymetric criptography dissapears this symmetry by adding a public key. Basically, the public key is used for encrypt data, wheread the other one, the private key is used to decrypt that data. \n",
    "\n",
    "Adding this public key, we solve many problems, some metioned previously:\n",
    "- **Safe distribution of keys**: In symmetric criptography you need a safe channel to share the private key. With asymmetric, using a public key to encrypt and a private key to decrypt, it is deleted the necessity to share private key.\n",
    "\n",
    "- **Keys scalability**: In symmetric criptography, the number of keys grows exponentially with the number of users we need to share key. With asymmetric, each user only needs a pair of keys(public and private), simplifying the management.\n",
    "\n",
    "- **Authenticity**: In symmetric criptography, anyone with the key can encrypt, making it impossible to verify who sent the message. With asymmetric, digital signatures with the private key guarantee the authenticity of the sender.\n",
    "\n",
    "- **No long-term confidentiality**: In symmetric criptography, if a symmetric key is compromised, all messages encrypted with it are exposed. With asymmetric, the private key is not shared and messages encrypted with the public key remain secure"
   ]
  },
  {
   "cell_type": "markdown",
   "metadata": {},
   "source": [
    "Apart from using asymetric Criptography, we will also use the Diffie-Hellman algorythm. The main objective of this algorythm is to achieve the exchange of a secret key via an unsafe channel like Internet. In order to understand Diffie-Hellman because it is quite hard mathematically, I will use the example with colours. "
   ]
  },
  {
   "cell_type": "markdown",
   "metadata": {},
   "source": [
    "### Exemple with colours\n",
    "\n",
    "Imagine the situation that Sahoni and Ruben want to share a secret colour and for that, they follow the next algorythm: \n",
    "- Sahoni & Ruben start using the same colour that anybody can know. \n",
    "- Later, each one adds a secret colour that only they know(individually).\n",
    "- After, they exchange the colours via a channel that anybody can know. \n",
    "- Finally, each one add the secret colour to the mixture that each one received. Then, both will have the same colour.\n",
    "\n",
    "If you understand it good, you know now what it consist of Deffie Hellman algorythm. "
   ]
  },
  {
   "cell_type": "markdown",
   "metadata": {},
   "source": [
    "<img src=\"images/llustration-of-Diffie-Hellman-algorithm-with-colors.png\" width=\"500\" height=\"500\" alt=\"Asymmetric Cryptography\">"
   ]
  },
  {
   "cell_type": "markdown",
   "metadata": {},
   "source": [
    "In our case, we will use this algorythm with number. Instead of using colours, we will use numbers in order to create a secret number or a password that it will be used to encrypt our messages. And why not to encrypt our messages with asymmetric criptography ? "
   ]
  },
  {
   "cell_type": "markdown",
   "metadata": {},
   "source": [
    "Basically because it is computationally **more expensive and slower** than symmetric criptography. For this reason, we will use both types."
   ]
  },
  {
   "cell_type": "markdown",
   "metadata": {},
   "source": [
    "# 2. Objective of the lab "
   ]
  },
  {
   "cell_type": "markdown",
   "metadata": {},
   "source": [
    "The objective of lab is to understand the fundamentals of asymmetric cryptography and Diffie Hellman by implementing a safe communication between two clients with both tools and sending a message to show its correct use. \n"
   ]
  },
  {
   "cell_type": "markdown",
   "metadata": {},
   "source": [
    " In order to be done, the lab will be spread in four parts: \n",
    "\n",
    "- The first part, implement a function or algorythm to generate keys.\n",
    "- The second part, implement a channel to exchange keys.\n",
    "- The third part, implement a second channel to exchange the encrypted number and decrypt them.\n",
    "- The fourth part, use the same channel to exchange a message with the secret number.\n",
    "\n",
    "In this practice, you will be exploring the whole process of protecting information. In addition, the student is expected to analyse the importance of maintaining the secret key and experiment with the risks associated with using incorrect keys for decryption."
   ]
  },
  {
   "cell_type": "markdown",
   "metadata": {},
   "source": [
    "# 3. Development of the lab "
   ]
  },
  {
   "cell_type": "markdown",
   "metadata": {},
   "source": [
    "Before you start the lab, it is interesting you install a library. "
   ]
  },
  {
   "cell_type": "code",
   "execution_count": 5,
   "metadata": {},
   "outputs": [
    {
     "name": "stdout",
     "output_type": "stream",
     "text": [
      "Collecting cryptography\n",
      "  Downloading cryptography-44.0.2-cp39-abi3-win_amd64.whl.metadata (5.7 kB)\n",
      "Collecting cffi>=1.12 (from cryptography)\n",
      "  Downloading cffi-1.17.1-cp313-cp313-win_amd64.whl.metadata (1.6 kB)\n",
      "Collecting pycparser (from cffi>=1.12->cryptography)\n",
      "  Using cached pycparser-2.22-py3-none-any.whl.metadata (943 bytes)\n",
      "Downloading cryptography-44.0.2-cp39-abi3-win_amd64.whl (3.2 MB)\n",
      "   ---------------------------------------- 0.0/3.2 MB ? eta -:--:--\n",
      "   ---------------------- ----------------- 1.8/3.2 MB 11.0 MB/s eta 0:00:01\n",
      "   ---------------------------------------- 3.2/3.2 MB 10.8 MB/s eta 0:00:00\n",
      "Downloading cffi-1.17.1-cp313-cp313-win_amd64.whl (182 kB)\n",
      "Using cached pycparser-2.22-py3-none-any.whl (117 kB)\n",
      "Installing collected packages: pycparser, cffi, cryptography\n",
      "Successfully installed cffi-1.17.1 cryptography-44.0.2 pycparser-2.22\n",
      "Note: you may need to restart the kernel to use updated packages.\n"
     ]
    },
    {
     "name": "stderr",
     "output_type": "stream",
     "text": [
      "\n",
      "[notice] A new release of pip is available: 24.3.1 -> 25.0.1\n",
      "[notice] To update, run: python.exe -m pip install --upgrade pip\n"
     ]
    }
   ],
   "source": [
    "%pip install cryptography"
   ]
  },
  {
   "cell_type": "markdown",
   "metadata": {},
   "source": [
    "This library gives us tools to use to implement cryptography."
   ]
  },
  {
   "cell_type": "markdown",
   "metadata": {},
   "source": [
    "Once you have done it, you should import two libraries in order that the development goes properly."
   ]
  },
  {
   "cell_type": "code",
   "execution_count": 3,
   "metadata": {},
   "outputs": [],
   "source": [
    "from cryptography.hazmat.primitives.asymmetric import rsa\n",
    "from cryptography.hazmat.primitives import serialization"
   ]
  },
  {
   "cell_type": "markdown",
   "metadata": {},
   "source": [
    "- **rsa**: This import allows us to generate keys and also to encrypt and decrypt files.\n",
    "\n",
    "- **serialization**: This import allow us to serialize and deserialize cryptographic keys."
   ]
  },
  {
   "cell_type": "markdown",
   "metadata": {},
   "source": [
    "In this lab, the decision of using rsa is due to: \n",
    "- It is easy to understand and use\n",
    "- There's a high support for python libraries\n",
    "- High compatibility and standardisation \n",
    "- Suitable for small data"
   ]
  },
  {
   "cell_type": "markdown",
   "metadata": {},
   "source": [
    "I recommend to use this webpage to do the lab: https://cryptography.io/en/latest/hazmat/primitives/asymmetric/rsa/ "
   ]
  },
  {
   "cell_type": "markdown",
   "metadata": {},
   "source": [
    "### 3.1. Part I: Generation of keys"
   ]
  },
  {
   "cell_type": "markdown",
   "metadata": {},
   "source": [
    "First of all, you will need to create the function to generate both keys. I suggest you that the the size of the key should be of 4096 bit in order you don't have any problem when you send a message. Moreover, the public_exponent parameter is 65537 because almost everyone use it."
   ]
  },
  {
   "cell_type": "code",
   "execution_count": 4,
   "metadata": {},
   "outputs": [],
   "source": [
    "def generate_keys_b():\n",
    "    private_key = rsa.generate_private_key(\n",
    "        public_exponent=65537,\n",
    "        key_size=4096\n",
    "        # Depending the size of the key, the encryption and decryption will be faster or slower\n",
    "        # Also, the size of the key will determine the security of the key\n",
    "        # Besides, the size of the key will determine the size of the encrypted message\n",
    "    )\n",
    "    public_key = private_key.public_key()\n",
    "    return private_key, public_key\n",
    "\n",
    "private_key_b, public_key_b = generate_keys_b()"
   ]
  },
  {
   "cell_type": "markdown",
   "metadata": {},
   "source": [
    "Afterwards, you will need to convert that keys to another format. I suggest you that you find information about PEM format because with this format,  keys can be *readable*. Instead, if you want to pass it into another format, I suggest you using DER format where keys will in binary code."
   ]
  },
  {
   "cell_type": "code",
   "execution_count": 5,
   "metadata": {},
   "outputs": [],
   "source": [
    "public_pem_b = public_key_b.public_bytes(\n",
    "    encoding=serialization.Encoding.PEM,\n",
    "    format=serialization.PublicFormat.SubjectPublicKeyInfo\n",
    ")"
   ]
  },
  {
   "cell_type": "code",
   "execution_count": 6,
   "metadata": {},
   "outputs": [],
   "source": [
    "private_pem_b = private_key_b.private_bytes(\n",
    "    encoding=serialization.Encoding.PEM,\n",
    "    format=serialization.PrivateFormat.PKCS8,\n",
    "    encryption_algorithm=serialization.NoEncryption()\n",
    ")"
   ]
  },
  {
   "cell_type": "code",
   "execution_count": null,
   "metadata": {},
   "outputs": [],
   "source": [
    "print(\"Public key:\\n\", public_pem_b.decode())\n",
    "print(\"Private key:\\n\", private_pem_b.decode())"
   ]
  },
  {
   "cell_type": "markdown",
   "metadata": {},
   "source": [
    "### 3.2. Part II: Implement a channel to exchange keys"
   ]
  },
  {
   "cell_type": "markdown",
   "metadata": {},
   "source": [
    "On this second part, you will need to develop two vital points.\n",
    "- Create a communication channel to exchange keys.\n",
    "- Send the mix of numbers and save them locally."
   ]
  },
  {
   "cell_type": "markdown",
   "metadata": {},
   "source": [
    "Firstly, you will need to import the library socket in order you can use all its functions."
   ]
  },
  {
   "cell_type": "code",
   "execution_count": 8,
   "metadata": {},
   "outputs": [],
   "source": [
    "import socket\n",
    "from cryptography.hazmat.backends import default_backend"
   ]
  },
  {
   "cell_type": "markdown",
   "metadata": {},
   "source": [
    "The first import gives you tools to implement network communication. The second is a module from the cryptography library that is used for implementing specific cryptographics operations like key generation, signs, etc."
   ]
  },
  {
   "cell_type": "markdown",
   "metadata": {},
   "source": [
    "Later, you will to need to make a function to make the communication channel from client B to client A. In this case, client A (it won't the one that you wil develop here) will be the one who will wait for the connection from the other client. I suggest that you make the channel via TCP."
   ]
  },
  {
   "cell_type": "code",
   "execution_count": null,
   "metadata": {},
   "outputs": [],
   "source": [
    "def client_b_exchange():\n",
    "    with socket.socket(socket.AF_INET, socket.SOCK_STREAM) as s:\n",
    "        s.connect(('localhost', 12345))\n",
    "        s.sendall(public_pem_b)  # Send public key to A\n",
    "        client_a_public = s.recv(1024)  # Receive public key from A\n",
    "        print(\"Public A key received:\\n\", client_a_public.decode())\n",
    "        \n",
    "        \n",
    "        client_a_public_key = serialization.load_pem_public_key(\n",
    "            client_a_public,\n",
    "            backend=default_backend()\n",
    "        )\n",
    "        \n",
    "\n",
    "        return client_a_public_key\n",
    "\n",
    "client_a_public = client_b_exchange()"
   ]
  },
  {
   "cell_type": "markdown",
   "metadata": {},
   "source": [
    "If you did it correctly, you should receive the public key from A client."
   ]
  },
  {
   "cell_type": "markdown",
   "metadata": {},
   "source": [
    "### 3.3. Part III: Second channel development and sending of encrypted message key"
   ]
  },
  {
   "cell_type": "markdown",
   "metadata": {},
   "source": [
    "In the last part of this lab, you will need to develop a second channel in order to send the encrypted number to B and after, A will send its mixed number. You need to know that you **CAN'T USE**  the same channel where you made the exchange of keys. The phases of this part are the following ones: "
   ]
  },
  {
   "cell_type": "markdown",
   "metadata": {},
   "source": [
    "- Sign the mixed number with A private key (Client A) and sign the mixed number with B private key (Client B)\n",
    "- Use the public key to encrypt the mixed number (Client A & B)\n",
    "- Create the channel to transmit the mixed number (Client A & B)\n",
    "- Transmit the mixed numbers through the channel (Client A & B)\n",
    "- Decrypt the mixed number that they were sent (Client A & B)"
   ]
  },
  {
   "cell_type": "markdown",
   "metadata": {},
   "source": [
    "First of all, you will need to import two more libraries in order you can do properly this part. "
   ]
  },
  {
   "cell_type": "code",
   "execution_count": 10,
   "metadata": {},
   "outputs": [],
   "source": [
    "from cryptography.hazmat.primitives.asymmetric import padding\n",
    "from cryptography.hazmat.primitives import hashes"
   ]
  },
  {
   "cell_type": "markdown",
   "metadata": {},
   "source": [
    "- **padding**: It allows us to protect data when you encrypt or decrypt it.\n",
    "- **hashes**: It gives support for hashing algorythms. Basically, it maintains the integrity of our data."
   ]
  },
  {
   "cell_type": "markdown",
   "metadata": {},
   "source": [
    "After adding both libraries, first, you will need to do the function that makes possible to do the mix between the public numbers and the private number of client B."
   ]
  },
  {
   "cell_type": "code",
   "execution_count": 12,
   "metadata": {},
   "outputs": [],
   "source": [
    "def power(a,b,p):\n",
    "    if b == 1:\n",
    "        return a\n",
    "    else:\n",
    "        return pow(a, b) % p"
   ]
  },
  {
   "cell_type": "code",
   "execution_count": 13,
   "metadata": {},
   "outputs": [
    {
     "name": "stdout",
     "output_type": "stream",
     "text": [
      "Key generated by B: 11\n"
     ]
    }
   ],
   "source": [
    "public_num_a = 7\n",
    "public_num_b = 13\n",
    "private_num_b = 5\n",
    "\n",
    "key_b_generated = power(public_num_a, private_num_b, public_num_b)\n",
    "print(\"Key generated by B:\", key_b_generated)"
   ]
  },
  {
   "cell_type": "markdown",
   "metadata": {},
   "source": [
    "Once finished the mixed number generation function, you will need to code the part that allows you to sign the message with B private key."
   ]
  },
  {
   "cell_type": "code",
   "execution_count": 14,
   "metadata": {},
   "outputs": [
    {
     "name": "stdout",
     "output_type": "stream",
     "text": [
      "Firm generated: b'\\x01\\xdf\\xe4B\\x9fC?S\\xc2\\xe7\\tpT\\xdc\\xaa\\x04;/\\xf7\\xf6\\xb7\\xb2r\\xac,~\\x7f\\xac\\xf1\\x8bF\\xd0\\xe6@!\\x11%\\xd0B\\xde\\x99\\x1e0\\xe3\\x1c\\xa5\\x95\\xc8\\xd9\\x04\\'\\xeb\\xbc\\xfd\\x13\\x1b..OU\\xe8U\\xfb\\x8f\\xce\\x85\\x00\\x8e\\xe7\\xd7\\xe1u\\t\\x89\\xfc\\x9c\\x18\\x90\\xe2\\xce\\xeeUl\\xbc\\xc5\\x98\\x94\\xf0$\\xce\\x12)t\\xdd\\xee\\x18B\\x9f\\xe4\\xea\\x94)U\\xc1\\x04\\xe6\\x19)\\xde\\xe7\\x97\\xbd\\x1d\\\\\\x7fe4\\x02F\\xdf\\xd1\\xd1\\xb1\\xd4,\\x8bfM\\xcd,\\xb3\\x9b\\xe7~\\x86fP#\\xd1\\\\\\xeb\\xb4\\x17\\xb2\\x1c\\xe7\\xe9\\x07L\\x1aN\\x1a\\x1f:wX\\xac\\x171\\xad\\xe4\\x90c\\\\\\x10\\xf4\\xbdV\\x88\\xbd\\xa1\\xd2\\x13Q@x\\xa5\\xe1lBF[\\xcb\\xd0a\\x0b}\\xe4\\x89\\xce\\x8d\\x9e30\\x8c,\\xb8\"\\xa8\\xd6\\xf7\\xa6\\x97v\\xe1\\x94\\xa8+\\xf5U\\xb2O\\xffi\\xbe\\xe1\\xc6\\x07\\x8d4\\xe2>X-\\x08\\x14\\xa6\\x96}\\xcc:\\xdf\\xc0\\xed\\x05hD\"m\\xa0\\xd18Hh\\x8d\\xca\\xb9S\\xc7\\xbf\\x0c\\xd6\\xc3\\xd4\\x92\\x12o }Xs!\\xcd:\\x8bt;\\x01\\xc4\\xbdA*\\xb9w\\xa1\\xa1;\\x0c\\x1cY\\xecaq#\\xef\\x12\\x87~\\xe4\\x13\\x8eux\\xcf\\x12<&\\xb5\\x01\\xcf^\\x99\\x9c~]\\x96\\x86\\x19\\xcf\\xc9\\x7fC\\xd4!\\xd5)\\xb2\\'\\x8a{,H\\xd1\\x9f7\\xd0\\xbd/\\x0b\\t\\x7f\\xf7\\n!P:\\xf09\\x92\\xbb\\x14\\xf0\\x88\\x9d\\xab\\x1fF\\x96]\\xcf\\x1b\\xa1\\xf4\\xa1LB\\x94\\xabD\\xadS)\\xfb\\x07\\xd2\\xab\\xfd\\xfa\\xba!\\xc0EO\\xee\\xde\\xd9`\\xf1\\xde\\xfbk\\x0e\\xad\\xbd\\xb0X\\xe2\\x92\\xb3\\n\\xe8\\xd4\\x1b\\x18\\xccq\\xfe\\x80\\x89\\x9f\\xe6\\x18\\x82\\x1d\\x01\\xd02j\\x7f\\xe5/\\xce6:\\xdf\\xa6#q-P\\x12\\x0e\\xf4\\xbf,;\\xe4\\x0e\\xf9\\xa2%+\\x8d\\x12\\xc7\\xae\\xd3\\x8e\\x07\\xfa\\xa7\\x1by\"\\xf1\\x90\\x1c\\x80s\\xd7\\x10\\xcf\\x12\\x19\\xd5\\xea5\\x93\\xf3\\xa4\\x8e\\xeb!M\\x17r4\\x13\\xf0\\xeeqP\\x1e\\x0b\\xcbH\\xa1\\xef\\xdb\\xee\\xdf\\x990@\\xb1\\xb0`\\xca\\x16\\xd6\\xbe\\xd6Jj\\x10\\xfe`\\r\\x08\\x89\\x18\\x85\\xb92\\xe1\\xb1\\xee\\xf5Y\\xa4\\xce\\x94'\n"
     ]
    }
   ],
   "source": [
    "# Sign the message\n",
    "signature = private_key_b.sign(\n",
    "    str(key_b_generated).encode(),\n",
    "    padding.PSS(\n",
    "        mgf=padding.MGF1(algorithm=hashes.SHA256()),\n",
    "        salt_length=padding.PSS.MAX_LENGTH\n",
    "    ),\n",
    "    hashes.SHA256()\n",
    ")\n",
    "\n",
    "print(\"Firm generated:\", signature)"
   ]
  },
  {
   "cell_type": "markdown",
   "metadata": {},
   "source": [
    "From the signing process, there are several things that need to be explained: \n",
    "- PS5 Padding: Padding adds  randomness to prevent pattern-related attacks on signed data. It can be used or PS5 or PKCSv15. Normally, the recommended choice is PS5 for any new protocols or appplications. Then, PKCSv15 is usually used to support legacy protocols. \n",
    "\n",
    "- mgf : A function mask generator based on hash SHA256 algorythm. MGF1 generates random values that they are combined with the message to ensure a unique padding.\n",
    "\n",
    "- salt-length: It stablishes the \"jump\" length (an additional random value used to ensure the randomness) \n",
    "\n",
    "- hashes.SHA256 : It is the hash algorythm to generate a summary of the message. The summary is compact and fixed representation of data. You can use different hashes from different families. In my case, I used this one because is enough for most of modern applications."
   ]
  },
  {
   "cell_type": "markdown",
   "metadata": {},
   "source": [
    "Now, you need to encrypt the message."
   ]
  },
  {
   "cell_type": "code",
   "execution_count": 15,
   "metadata": {},
   "outputs": [
    {
     "name": "stdout",
     "output_type": "stream",
     "text": [
      "512\n",
      "512\n",
      "512\n",
      "Encrypted blocks: [b\"\\x0cG\\xdc\\x94\\x9f\\x0c\\\\k2v\\xd6\\xe7\\xcd7&\\xf3A\\xa8m\\x05Y\\xd4\\xa6\\x862*\\x9di\\xc3^\\xf1\\xe1\\xf6\\x89u\\x95\\x1a\\xedKR\\x83#\\x1c:\\xd8\\xcd$-\\xe9\\xa3}\\xeb\\xc5\\xb58<\\xb2\\xa4\\x99Z\\r`7_\\xc0\\xd2\\xb8\\xe9\\xbf\\xcbk\\x7f\\xa7m\\xf8\\xa4\\xc6\\x19Dl\\xa5\\x86\\xee\\x86v\\xfd\\x83eVb@\\x96\\xd3F\\x16\\xce\\x9d\\xe7\\xcf\\xc9F\\xd3Fb\\x1c\\x98\\xb5y\\xe7c\\xeb2B\\x8e\\x0cA\\xa1\\xec\\xe8\\xb3\\xcbj\\x81L=\\x81Cx\\xb8\\xfb\\xd7\\xe1D$1\\x96W\\xc1]r\\x0fxV8\\x92F\\xb9n\\xbd\\rA\\xc4\\xfa\\x14\\xf3\\xfd\\xfe\\xbe1\\xc9_k\\x1e\\xdd\\x05\\xf5\\x9e\\x82\\x05\\xf8\\xe5\\xe6\\xa9\\xc3\\xef\\\\\\xebi\\x0byO\\xcf\\xd4\\xa3\\xf2\\xbe0\\xc5\\xff\\x13\\x02\\xcd\\xeb@\\xde\\xc5\\xb6\\xbc\\xafZh7r\\xa3\\x9fS\\xdb\\x17)e\\x89\\x16'\\x06\\xe6\\x1dA\\xb3\\x1b\\xc5>/\\xc9\\xf3\\x121*&P\\xa4$O\\r}\\x83.$\\x82\\xa0H\\xd0$\\xf1\\x86]W:\\x95\\x0197\\xa15z\\xe84vqx\\xbc\\x93\\x1e\\xc4\\x11\\xef\\xb2p<\\xe9\\xef\\xc8\\xbc\\x94\\xc5 Q\\x14?LA\\xf7N\\x00\\xb1\\xd8qE\\xe9\\x80\\x02\\xdc\\x82,\\xbfE\\xf4\\xf7\\x944\\xa8\\xea\\xbfL\\x9bo\\xbfp&\\\\C\\x03\\x8f\\x8d\\xc6y\\xeeO\\xf5\\x10\\x17\\xabGl>\\xca\\\\c\\xf1\\xad\\xd46eIyW\\xbbm\\xb8wZ\\x83\\x0b\\x9f}\\x85\\xe9\\xab\\x1e[\\xebl\\x17\\x0b\\x8c\\xad\\x99\\xbe-^P\\xdar\\xca-g\\xfd\\xc3\\x0b8\\nb\\x88\\x97\\xfbNLI\\xe0\\x0f\\x0bx8\\x96w\\xe6T8\\xbed\\xf0\\xc2\\x9c.\\xccZQ\\x9f\\x1ac\\xaa\\xb9\\xe8\\x87\\xac\\xcbbl\\x08i\\x83/'\\x07\\xf8\\xaaTI\\xa6o\\xa0Z\\xd3f\\x95>\\x14\\xb4\\x11\\xd2\\xc7\\x0f\\xe1\\xaa\\xca\\xf9\\x8dX\\xd1\\x17%S\\x9dt\\x1d\\xf6|7\\xbf\\xa5\\x8a\\xe7\\xb2\\x9aOE\\xed\\x0b\\xd7\\x86\\xab3\\xb4(3\\xe3\\x0ff\\xffc\\xfaY\\xa2\\x90FaIz\\xc6\\x8a\\xe9\\xc9\\xbb\\xbf\\xe7\\xa1h\\xf0\\x8c\\x92\\x05\\xc8X\\xd6\\xac^\\xa6\\x03\\xe4\\x8e -C5\\xe6|=F(\\x9c\\xb7e\\xe5\", b'\\x0f\\x1c\\'t\\x07\\xdbA\\x0e:B\\xdbg5\\xb58\\x14\\xa9:?f\\x1b\\xe1g\\xf3Q\\xcf\\xcd\\x81\\xc4\\xaf\\x8a.N\\x87\\xf3rA\\xa5\\xc4\\xa8\\x99\\xcb\\x82l\\xfc\\xab\\x87\\xb0Q\\xcft\\x80g.\\xd2\\xd2\\x94\\n=\\xf6L\\xf7\\x94\\x14\\xd0\\xe8\\xa7i\\xf5\\xaaqPHA\\xda2\\x9a7\\x89kv\\xe7\\xc9\\x1f\\xd5%\\x0c\\xa1\\xbc\\xfdx\\xe6\\x08\\x8eM^\\x19\\x993Y\\xdc\\xac\"\\x85V\\xfb=\\xba\\xd7.\\xabN\\x94\\x05\\xb7\\xb6\\x99\\xc2k9\\xe8\\x0e\\xb6R\\x9e7o+\\x9c\\xe7\\x9c\\x17u$9\\xc0\\xa4y\\x84\\x99<Ah\\xe9\\x07\\x8fK05\\x93US\\xa7x\\xaf\\x97V{gu\\xfc\\xd4t\\x1f\\x92<\\x98\\xb3>.\\xbc\\x86\\xdc\\x989\\xfa\\x80\\xbc\\xd5\\x11>\\xe8\\xb1\\x95\\x8d\\x98:\\x81(\\xa1\\xf8(\\xae:\\ta\\x1c\\x92\\xd5\\x8a\\xf6\\x85p\\x04\\xf9e\\xb0H\\xae\\x9aW\\x9et0\\xc0-\\xe9\\x1c\\xc0./s6]\\xf2\\xd7\\xee\\xee\\x87\\xect\\xc2\\xe5\\x9d\\xc9\\x87\\x81\\xcc\\x8dP\\xe4\\xfd}\\xc5\\x1b<[\\xec;\\xd0H`\\xea\\x1d8\\rVW\\x87\\x93g\\xcc\\xf6\\x1eGv\\xf1\\xd3&\\xa5gP\\r\\x1c\\x8a\\x85p\\xc3\\x01\\x83\\xfb\\xeei\\xbe\\xefQN\\xa7#+\\x84\\x04o*\\x8d(\\xc7hSi\\xbfqo\\x94\\xb9KE5\\xb8\\x85\\x13\\xa3\\xaeJ\\x86\\xefO\\x9a/\\x91m\\xed-\\x163{\\x98n\\xe1\\x01\\x9a\\xad\\xbc$}]\\x86\\xa8\\xde\\x14\\x182S\\x1eK\\x0b\\xb2X)jr/\\xa8\\xcb\\xe9G\\xdb\\x87\\xa0\\xa2\\x12dq\\x18l:\\xedc\\x91\\x02g$9\\x0e\\xf9S\\x8f\\x1fv\\xc2\\xae \\x00\\x9e\\xaar\\x88\\xce@\\xb0\\xd0\\xa7x)(\\xd6\\x14P5\\x9e/\\xf0\\xb8Lp6\\x89\\xebrx>;D\\xa4HE\\x06\\xfeS\\xb2:\\xea#\\xb7\\xd9\\xb80\\xbf\\x1d\"\\xe4\\x0e\\xc2\\xa8\\xa6Y\\x12\\xc5\\x84)n\\xc2Ou&+R\\xc2\"\\xc5\\xde\\x16E\\\\h\\xba3\\x98\\xe1\\x85-.o\\x07\\xe4\\x11\\x19\\xe6\\xd9\\xb7\\xfd\\xf8\\xb76ZGMR\\xcc\\xda\\x7f\\x12\\t\\x19\\xfce\\xfc\\xdc\\xe4\\x01@\\x10w\\xb43\\xbb\\x94#H\\x178\\x96\\xc0n\\x1f\\x81\\xfee\\x1e\\xcaR.', b'@\\x18\\xccG\\x8c\\x05\\xa7\\x18\\xf2\\xda4\\xe98\\xe1\\r\\xd0\\x861\\x8dB[\\xf4\\xb19w\\xe6\\xa5\\xa1\\t.\\n\\x00\\xaa7\\xf6\\xe7Y\\xedQMJ\\xcf\\xf6\\xba<}\\x9f\\xa5}\\xe1\\n\\xba\\xf4.\\xeapfx\\x0b\\x06\\xf5\\x02\\x13\\r\\x1d\\xa9\\x94\\xaf\\xf5\\x0eE\\xd4\\xa3`\\xf1\\x9cw\\xcc\\x04EL\\xcf\\x95\\x7f\\x8a\\xc0(\\xad\\ns\\xb1\\x12\\x9cNLh \\xab\\xb6 ~\\n[\\xdf\\xe5\\xbc\\xd76ti\\xd3\\xbb\\x96[\\x1b\\xae\\xd97\\xec\\xc0ny(~q\\x88\\xa9\\xb2\\xdf9\\xcb\"\\xeb\\xc2\\x82\\xf5~\\xa6\\x99\\x91\\xa6\\x9b\\x86f\\xbd\\xfd\\x00z\\x04o\\x8an\\xca\\xdd@\\xc6\\xd5<\\xc5\\xf4\\x0b\\x8e\\x19a\\x06!\\xe2\\xed\\xb3\\x13\\xbc\\xe3\\x93\\r\\x02jF\\x0b\\x1a\\x8f\\xca Y\\x0c3\\xecJ\\xa9\\r\")\\xffqP\\x7fN\\xbf\\n(\\xda\\xf9\\xc7\\xf1\\x8e\\xa8\\x1f9Ia\\x8byBz\\xb0\\x04\\xf2\\x1b\\xb6\\xa4\\r\\x1a\\n\\xa8\\xf3U+\\xd1\\x89A\\t\\xcf5`]W\\xaa\\xaa=\\xad\\xbb\\xf0\\x01\\x87\\x99\\x89\\x07C\\x08\\x17\\xda\\xea\\xcaG\\xea\\xc3\\xfd\\xbb6\\x1b\\xd6\\xc7\\x8c\\xe3E\\x00\\xcd2\\xaf\\x97\\x9dT\\xbf%`3*w\\xb5)\\xb4\\x8c\\xb74\\xbf\\\\\\xbbF?\\xa6\\xc9\\x8d5\\xba\\xf4\\xaf\\xa2\\xf91\\xa9b\\x06x0H\\xca\\xed\\x0c\\r~\\xc55 \\xa7>@A\\xd3\\xe0\\xe0\\xdd?\\xb1\\x91?\\xe4h\\xb3\\x12\\x11\\xe0A6f\\x9a\\x83A\\xfe!\\xe4p\\xc7\\xc7^\\xda\\x86{\\x1e\\xefY\\x88\\x0b\\x82d\\x1a\\xd6$\\x99\\x880B\\xe0\\xe1\\x92bU\\xa4\\xdf2\\x9f\\xc2\\xd7\\xc9\\xa9Y\\xda\\xcemfoQ\\xb8B\\xa5\\x0e\\xcbx\\x00h\\xc5\\xc8\\xf5\\x11&$\\xb8\\x8eU\\xdb\\xe0\\x8f\\x9e\\x15\\x9b2\\xb9\\x1c;l\\xb1!J\\xe7\\x10\\xfa\\xadh1:\\xa0{\\xcf9\\x91\\xd2D\\x8el\\xbf\\x85\\x03\\xbf\\x95\\xc0\\x8fv\\xd1\\x97\\xd4\\x06\\xc8\\xf1\\x94\\xae\\xeb{\\xed\\x1b\\xa6\\xb0<\\x98H\\x95\\x1a\\xb8\\xef\\x14F\\xb2\\xbd\\x1f]B\\xb8\\xbb\\xb7/l\\xda\\xab\\xfa\\x9a@b\\xcc\\xd4\\x88\\xbe\\x82\\xc72\\xf1\\x1d\\xab\\xf34t\\x1b\\xf4\\x0e\\x818\\xcd\\xa5\\x15\\xad%9\\xaa\\x80\\xbdM\\x97@O\\xe2+\\xffK\\x1bl\\xf3']\n"
     ]
    }
   ],
   "source": [
    "chunk_size = 214\n",
    "data_to_encrypt = str(key_b_generated).encode() + b\"||SIGNATURE||\" + signature\n",
    "encrypted_blocks = []\n",
    "\n",
    "# Divide the message in chunks\n",
    "for i in range(0, len(data_to_encrypt), chunk_size):\n",
    "    chunk = data_to_encrypt[i:i + chunk_size]\n",
    "        \n",
    "    # Cypher the chunk\n",
    "    encrypted_chunk = client_a_public.encrypt(\n",
    "        chunk,\n",
    "        padding.OAEP(\n",
    "            mgf=padding.MGF1(algorithm=hashes.SHA256()),\n",
    "            algorithm=hashes.SHA256(),\n",
    "            label=None\n",
    "        )\n",
    "    )\n",
    "    print(len(encrypted_chunk))\n",
    "    encrypted_blocks.append(encrypted_chunk)\n",
    "\n",
    "print(\"Encrypted blocks:\", encrypted_blocks)"
   ]
  },
  {
   "cell_type": "markdown",
   "metadata": {},
   "source": [
    "In order to encrypt the message, firstly, you need to create a string where you will need to concatenate the message with signature. Between the message and the signature, I recommend that you put a flag to separate the message and the signature. Afterwards, you may need to separate the whole message in chunks or blocks in order to not exceed the hash maximum permited length. \n",
    "\n",
    "From the encryption function, you should know that the message is encrypted the public key, meaning anyone can encrypt data. Then, when the message is sent and received by somebody, the receiver needs to decrypt the data with private key. Moreover, like signtures, RSA supports encryption with several different padding options. In our case, valid paddings for encryption can be OAEP or PKCS1v15. OAEP is the most recommended for any new protocols whereas PKCS1v15, it should be only used to support legacy protocols."
   ]
  },
  {
   "cell_type": "markdown",
   "metadata": {},
   "source": [
    "Later, you need to create the function that allows to receive and decrypt the message for client B."
   ]
  },
  {
   "cell_type": "code",
   "execution_count": 17,
   "metadata": {},
   "outputs": [
    {
     "name": "stdout",
     "output_type": "stream",
     "text": [
      "Waiting for encrypted message...\n",
      "Decrypted message received\n"
     ]
    }
   ],
   "source": [
    "def receive_and_decrypt_message(private_key_b):\n",
    "    with socket.socket(socket.AF_INET, socket.SOCK_STREAM) as s:\n",
    "        s.bind(('localhost', 12346))\n",
    "        s.listen()\n",
    "        print(\"Waiting for encrypted message...\")\n",
    "        conn, addr = s.accept()\n",
    "        with conn:\n",
    "            # Receive the encrypted message in parts\n",
    "            encrypted_message_parts = []\n",
    "            while True:\n",
    "                part = conn.recv(1024)\n",
    "                if not part:  # If there is no more data to receive, break the loop\n",
    "                    break\n",
    "                encrypted_message_parts.append(part)\n",
    "\n",
    "            # Decrypt the message\n",
    "            decrypted_data = b\"\"\n",
    "            for encrypted_part in encrypted_message_parts:\n",
    "                decrypted_part = private_key_b.decrypt(\n",
    "                    encrypted_part,\n",
    "                    padding.OAEP(\n",
    "                        mgf=padding.MGF1(algorithm=hashes.SHA256()),\n",
    "                        algorithm=hashes.SHA256(),\n",
    "                        label=None\n",
    "                    )\n",
    "                )\n",
    "                decrypted_data += decrypted_part  # Gather the decrypted parts\n",
    "\n",
    "            print(\"Decrypted message received\")\n",
    "            return decrypted_data\n",
    "\n",
    "decrypted_data = receive_and_decrypt_message(private_key_b)"
   ]
  },
  {
   "cell_type": "markdown",
   "metadata": {},
   "source": [
    "Basically, you need to open the channel and wait there is the connection request. After accepting the request, you start receiving the parts of the encrypted message and joining them. \n",
    "\n",
    "Once it has received every part, you will to create the code to decrypt the message in parts with the same features as it was encrypted. After every part has been decrypted, you will need to join everything another time."
   ]
  },
  {
   "cell_type": "markdown",
   "metadata": {},
   "source": [
    "Now, you need to change the roles from both clients. Client B will send the mixed number to client A."
   ]
  },
  {
   "cell_type": "code",
   "execution_count": 18,
   "metadata": {},
   "outputs": [
    {
     "name": "stdout",
     "output_type": "stream",
     "text": [
      "512\n",
      "512\n",
      "512\n",
      "Message sent to Client B\n"
     ]
    }
   ],
   "source": [
    "# Send the encrypted message to Client A\n",
    "def send_encrypted_message(encrypted_blocks):\n",
    "    with socket.socket(socket.AF_INET, socket.SOCK_STREAM) as s:\n",
    "        s.connect(('localhost', 12346))  # Channel 2\n",
    "        for block in encrypted_blocks:\n",
    "            print(len(block))\n",
    "            s.sendall(block)\n",
    "        \n",
    "        print(\"Message sent to Client B\")\n",
    "\n",
    "send_encrypted_message(encrypted_blocks)"
   ]
  },
  {
   "cell_type": "markdown",
   "metadata": {},
   "source": [
    "After both clients have received their mixed numbers, you will need to verify if the message was sent by the correct sender. Basically, you will need to separate the message and the signature. Later, you will need to use the function to verify both things."
   ]
  },
  {
   "cell_type": "code",
   "execution_count": 19,
   "metadata": {},
   "outputs": [
    {
     "name": "stdout",
     "output_type": "stream",
     "text": [
      "The firm is valid: 5\n"
     ]
    }
   ],
   "source": [
    "# Separating the key from the signature\n",
    "key_from_a, signature = decrypted_data.split(b\"||SIGNATURE||\")  \n",
    "# Ensure that the key is the same\n",
    "# Verify the signature\n",
    "\n",
    "try:\n",
    "    client_a_public.verify(\n",
    "        signature,  \n",
    "        key_from_a,    \n",
    "        padding.PSS(\n",
    "            mgf=padding.MGF1(algorithm=hashes.SHA256()),\n",
    "            salt_length=padding.PSS.MAX_LENGTH \n",
    "        ),\n",
    "        hashes.SHA256()\n",
    "    )\n",
    "    print(\"The firm is valid:\", key_from_a.decode())  \n",
    "except Exception as e:\n",
    "    print(\"The firm is not valid:\", e)  \n"
   ]
  },
  {
   "cell_type": "markdown",
   "metadata": {},
   "source": [
    "### 3.4. Part IV: Transmission of encrypted messages with the Deffie-Hellman key"
   ]
  },
  {
   "cell_type": "markdown",
   "metadata": {},
   "source": [
    "If the signature was right, no exception message will appear. Then, after transforming the number from string to integer, you need to create the secret number that will be the same for both clients. "
   ]
  },
  {
   "cell_type": "markdown",
   "metadata": {},
   "source": [
    "With this secret number, you will "
   ]
  },
  {
   "cell_type": "code",
   "execution_count": 20,
   "metadata": {},
   "outputs": [
    {
     "name": "stdout",
     "output_type": "stream",
     "text": [
      "Secret number key generated by B: 5\n"
     ]
    }
   ],
   "source": [
    "secret_key_num = power(int(key_from_a), private_num_b, public_num_b)\n",
    "print(\"Secret number key generated by B:\", secret_key_num)"
   ]
  },
  {
   "cell_type": "markdown",
   "metadata": {},
   "source": [
    "Once you have the secret number key, now client B will send an encrypted message through symmetric encryption. In order to encrypt it, you can free to use any type of symmetric encryption algorythm. In my case, I will use the characters movement technique with tha ASCII code table."
   ]
  },
  {
   "cell_type": "code",
   "execution_count": 21,
   "metadata": {},
   "outputs": [
    {
     "name": "stdout",
     "output_type": "stream",
     "text": [
      "Cypher message: [103, 122, 106, 115, 116, 120, 37, 105, 110, 102, 120]\n"
     ]
    }
   ],
   "source": [
    "message = input(\"Enter the message to be encrypted: \")\n",
    "\n",
    "encrypted_message = [(ord(char) + secret_key_num) for char in message]\n",
    "print(\"Cypher message:\", encrypted_message)"
   ]
  },
  {
   "cell_type": "markdown",
   "metadata": {},
   "source": [
    "After entering the secret message and encrypting it, you will need to send it to client A."
   ]
  },
  {
   "cell_type": "code",
   "execution_count": 22,
   "metadata": {},
   "outputs": [
    {
     "name": "stdout",
     "output_type": "stream",
     "text": [
      "Message sent to Client B\n"
     ]
    }
   ],
   "source": [
    "# Send the encrypted message to Client B\n",
    "def send_encrypted_message(encrypted_message):\n",
    "    with socket.socket(socket.AF_INET, socket.SOCK_STREAM) as s:\n",
    "        s.connect(('localhost', 12346))  # Channel 2\n",
    "        s.sendall(bytes(encrypted_message))\n",
    "        \n",
    "        print(\"Message sent to Client B\")\n",
    "\n",
    "send_encrypted_message(encrypted_message)"
   ]
  },
  {
   "cell_type": "markdown",
   "metadata": {},
   "source": [
    "After sending the message to client A, he will need to decrypt."
   ]
  }
 ],
 "metadata": {
  "kernelspec": {
   "display_name": "Python 3",
   "language": "python",
   "name": "python3"
  },
  "language_info": {
   "codemirror_mode": {
    "name": "ipython",
    "version": 3
   },
   "file_extension": ".py",
   "mimetype": "text/x-python",
   "name": "python",
   "nbconvert_exporter": "python",
   "pygments_lexer": "ipython3",
   "version": "3.13.1"
  }
 },
 "nbformat": 4,
 "nbformat_minor": 2
}
